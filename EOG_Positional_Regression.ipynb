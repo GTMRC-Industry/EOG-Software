{
 "cells": [
  {
   "cell_type": "code",
   "execution_count": 362,
   "id": "47b6d06a",
   "metadata": {},
   "outputs": [],
   "source": [
    "import pandas as pd\n",
    "import numpy as np\n",
    "from sklearn.model_selection import train_test_split\n",
    "from sklearn.preprocessing import StandardScaler\n",
    "from sklearn.linear_model import LogisticRegression, LinearRegression, HuberRegressor, RANSACRegressor\n",
    "from sklearn.metrics import classification_report   \n",
    "from sklearn.datasets import load_iris\n",
    "import matplotlib.pyplot as plt\n",
    "import seaborn as sns\n",
    "import tensorflow as tf\n",
    "from tensorflow import keras\n",
    "from tensorflow.keras import layers\n",
    "from tensorflow.keras.models import Sequential\n",
    "from tensorflow.keras.layers import LSTM, Dense, Masking\n",
    "from sklearn.model_selection import train_test_split\n",
    "from sklearn.metrics import r2_score, root_mean_squared_error\n",
    "from tensorflow.keras.preprocessing.sequence import pad_sequences\n"
   ]
  },
  {
   "cell_type": "code",
   "execution_count": 363,
   "id": "c3b0f9ce",
   "metadata": {},
   "outputs": [],
   "source": [
    "## LOAD AND COMBINE FULL DATA ON EOG READINGS AND SACCADE LABELS\n",
    "\n",
    "def load_data(EOG_filepath, label_filepath):\n",
    "    EOG = pd.read_csv(EOG_filepath)\n",
    "    labels = pd.read_csv(label_filepath)\n",
    "    data = pd.concat([EOG, labels], axis=1)\n",
    "    data = data.rename({'Var1': 'saccade_type'}, axis = 1)\n",
    "    data = data.drop(0).reset_index(drop=True)\n",
    "    data = data.drop(data.shape[0]-1).reset_index(drop=True)\n",
    "\n",
    "    return data"
   ]
  },
  {
   "cell_type": "code",
   "execution_count": 364,
   "id": "229a3c93",
   "metadata": {},
   "outputs": [],
   "source": [
    "#SEGMENT DATA INTO RESPECTIVE SACCADES AND BLINKS\n",
    "def segment_data(data):\n",
    "    data['group'] = (data['saccade_type'] != data['saccade_type'].shift()).cumsum()\n",
    "\n",
    "    # split into a list of DataFrames\n",
    "    segments = [g.drop(columns='group').reset_index(drop=True)\n",
    "                for _, g in data.groupby('group')]\n",
    "    return segments"
   ]
  },
  {
   "cell_type": "markdown",
   "id": "0c312ad1",
   "metadata": {},
   "source": [
    "SINCE the FORWARD SACCADES ARE THE ONLY ONES THAT CONTAIN INITIAL MOVEMENT FROM THE REFERENCE POINT of the CENTER OF THE SCREEN, THEY ARE THE ONLY ONES WE CARE ABOUT FOR COORDINATE MAPPING. THE RETURN SACCADES ARE DEPENDENT ON THE FORWARD SACCADES AND ARE REDUNDANT\n"
   ]
  },
  {
   "cell_type": "code",
   "execution_count": 365,
   "id": "5656523c",
   "metadata": {},
   "outputs": [],
   "source": [
    "#SELECT ONLY FORWARD SACCADES\n",
    "def get_fw_saccades(segments):\n",
    "    fw_saccades = [seg for seg in segments if seg['saccade_type'].iloc[0] == 1]\n",
    "    return fw_saccades"
   ]
  },
  {
   "cell_type": "code",
   "execution_count": 366,
   "id": "ca0b71ab",
   "metadata": {},
   "outputs": [],
   "source": [
    "#SELECT ONLY BACKWARD SACCADES\n",
    "def get_bw_saccades(segments):\n",
    "    bw_saccades = [seg for seg in segments if seg['saccade_type'].iloc[0] == 2]\n",
    "    return bw_saccades\n"
   ]
  },
  {
   "cell_type": "code",
   "execution_count": 367,
   "id": "8408db54",
   "metadata": {},
   "outputs": [],
   "source": [
    "#IMPORT GAZE LABELS FOR EOG DATA\n",
    "def load_gaze(gaze_filepath):\n",
    "    gaze = pd.read_csv(gaze_filepath)\n",
    "    gaze = gaze.rename({'TargetGA_1': 'angle_horiz', 'TargetGA_2': 'angle_vert'}, axis=1)\n",
    "    gaze = gaze[gaze['angle_horiz'] != 0].reset_index(drop=True)\n",
    "    return gaze"
   ]
  },
  {
   "cell_type": "code",
   "execution_count": 368,
   "id": "601e7264",
   "metadata": {},
   "outputs": [
    {
     "data": {
      "application/vnd.microsoft.datawrangler.viewer.v0+json": {
       "columns": [
        {
         "name": "index",
         "rawType": "int64",
         "type": "integer"
        },
        {
         "name": "x",
         "rawType": "float64",
         "type": "float"
        },
        {
         "name": "y",
         "rawType": "float64",
         "type": "float"
        }
       ],
       "ref": "ff939c04-8446-4c2c-a8ca-df9a91860c9b",
       "rows": [
        [
         "0",
         "-3.9920709208255905",
         "-1.0868852970707223"
        ],
        [
         "1",
         "21.21258830118279",
         "-14.063830980236672"
        ],
        [
         "2",
         "14.909656271775088",
         "11.957373407119206"
        ],
        [
         "3",
         "23.445250833811965",
         "1.6248875524248292"
        ],
        [
         "4",
         "7.9465504696636575",
         "11.150134774553301"
        ],
        [
         "5",
         "-23.689957722458175",
         "-13.093331955091692"
        ],
        [
         "6",
         "17.814056727300443",
         "14.042033971211815"
        ],
        [
         "7",
         "22.14417467929264",
         "-7.792831625827347"
        ],
        [
         "8",
         "9.119825045554732",
         "-8.994530548263585"
        ],
        [
         "9",
         "13.150993714489159",
         "-10.451314624370651"
        ],
        [
         "10",
         "12.405648871692692",
         "11.779913467685738"
        ],
        [
         "11",
         "-5.499034184229075",
         "2.8408410803071216"
        ],
        [
         "12",
         "7.93314084182036",
         "6.80690537163211"
        ],
        [
         "13",
         "-16.777448634512474",
         "-8.505980829285233"
        ],
        [
         "14",
         "10.513344593877356",
         "1.9441984320147159"
        ],
        [
         "15",
         "-23.887872178871334",
         "-11.640544728985079"
        ],
        [
         "16",
         "-11.382334664157872",
         "9.018618270113272"
        ],
        [
         "17",
         "-23.15625888709311",
         "6.695431197889233"
        ],
        [
         "18",
         "-20.55604379824975",
         "10.047835198560971"
        ],
        [
         "19",
         "16.50418915242116",
         "10.316291336178415"
        ],
        [
         "20",
         "9.940981989915018",
         "-10.468251901175737"
        ],
        [
         "21",
         "-9.332359624010493",
         "-2.259369899933634"
        ],
        [
         "22",
         "22.97223688492762",
         "-1.4133771086090146"
        ],
        [
         "23",
         "-23.7545338994127",
         "10.064394892729714"
        ],
        [
         "24",
         "-3.1255223597820136",
         "-10.007302057313222"
        ],
        [
         "25",
         "-6.043389451263008",
         "-3.4598722523331507"
        ],
        [
         "26",
         "13.547791739702099",
         "4.225022867557581"
        ],
        [
         "27",
         "15.062349955593996",
         "-0.3755820405454108"
        ],
        [
         "28",
         "-15.97708668843953",
         "2.7834279090941587"
        ],
        [
         "29",
         "-0.5222639033779116",
         "12.019986866864206"
        ],
        [
         "30",
         "-2.776422634793969",
         "7.372544461269745"
        ],
        [
         "31",
         "7.465509821864689",
         "10.67770235864734"
        ],
        [
         "32",
         "10.68268091768042",
         "8.960202321637679"
        ],
        [
         "33",
         "12.995193827203305",
         "7.371513428351063"
        ],
        [
         "34",
         "-11.428149733553832",
         "2.34521374518538"
        ],
        [
         "35",
         "9.16919211795506",
         "12.765855245240383"
        ],
        [
         "36",
         "7.913757437823163",
         "-11.415712533429247"
        ],
        [
         "37",
         "-17.214979056004356",
         "-12.608292967178135"
        ],
        [
         "38",
         "-19.440352900375238",
         "0.25897373248448274"
        ],
        [
         "39",
         "-0.08347300069955575",
         "0.3046532966958058"
        ],
        [
         "40",
         "23.458085068680525",
         "4.600135235772227"
        ],
        [
         "41",
         "-8.14419663964003",
         "-11.34024588576169"
        ],
        [
         "42",
         "4.350722003079285",
         "3.7064351854863427"
        ],
        [
         "43",
         "-14.092285278272293",
         "11.02115726209507"
        ],
        [
         "44",
         "12.820710186543986",
         "-7.94424898851482"
        ],
        [
         "45",
         "-12.496085068382417",
         "3.1255510019619077"
        ],
        [
         "46",
         "0.3039540207781701",
         "7.32222514144714"
        ],
        [
         "47",
         "10.157738038250494",
         "2.723783074262519"
        ],
        [
         "48",
         "19.94554051608692",
         "11.439222373828043"
        ],
        [
         "49",
         "23.434994901424",
         "10.432379020333686"
        ]
       ],
       "shape": {
        "columns": 2,
        "rows": 300
       }
      },
      "text/html": [
       "<div>\n",
       "<style scoped>\n",
       "    .dataframe tbody tr th:only-of-type {\n",
       "        vertical-align: middle;\n",
       "    }\n",
       "\n",
       "    .dataframe tbody tr th {\n",
       "        vertical-align: top;\n",
       "    }\n",
       "\n",
       "    .dataframe thead th {\n",
       "        text-align: right;\n",
       "    }\n",
       "</style>\n",
       "<table border=\"1\" class=\"dataframe\">\n",
       "  <thead>\n",
       "    <tr style=\"text-align: right;\">\n",
       "      <th></th>\n",
       "      <th>x</th>\n",
       "      <th>y</th>\n",
       "    </tr>\n",
       "  </thead>\n",
       "  <tbody>\n",
       "    <tr>\n",
       "      <th>0</th>\n",
       "      <td>-3.992071</td>\n",
       "      <td>-1.086885</td>\n",
       "    </tr>\n",
       "    <tr>\n",
       "      <th>1</th>\n",
       "      <td>21.212588</td>\n",
       "      <td>-14.063831</td>\n",
       "    </tr>\n",
       "    <tr>\n",
       "      <th>2</th>\n",
       "      <td>14.909656</td>\n",
       "      <td>11.957373</td>\n",
       "    </tr>\n",
       "    <tr>\n",
       "      <th>3</th>\n",
       "      <td>23.445251</td>\n",
       "      <td>1.624888</td>\n",
       "    </tr>\n",
       "    <tr>\n",
       "      <th>4</th>\n",
       "      <td>7.946550</td>\n",
       "      <td>11.150135</td>\n",
       "    </tr>\n",
       "    <tr>\n",
       "      <th>...</th>\n",
       "      <td>...</td>\n",
       "      <td>...</td>\n",
       "    </tr>\n",
       "    <tr>\n",
       "      <th>295</th>\n",
       "      <td>9.024713</td>\n",
       "      <td>3.497681</td>\n",
       "    </tr>\n",
       "    <tr>\n",
       "      <th>296</th>\n",
       "      <td>-14.919332</td>\n",
       "      <td>-10.691895</td>\n",
       "    </tr>\n",
       "    <tr>\n",
       "      <th>297</th>\n",
       "      <td>-9.281068</td>\n",
       "      <td>-8.074654</td>\n",
       "    </tr>\n",
       "    <tr>\n",
       "      <th>298</th>\n",
       "      <td>-18.684515</td>\n",
       "      <td>0.993434</td>\n",
       "    </tr>\n",
       "    <tr>\n",
       "      <th>299</th>\n",
       "      <td>8.748763</td>\n",
       "      <td>-8.900241</td>\n",
       "    </tr>\n",
       "  </tbody>\n",
       "</table>\n",
       "<p>300 rows × 2 columns</p>\n",
       "</div>"
      ],
      "text/plain": [
       "             x          y\n",
       "0    -3.992071  -1.086885\n",
       "1    21.212588 -14.063831\n",
       "2    14.909656  11.957373\n",
       "3    23.445251   1.624888\n",
       "4     7.946550  11.150135\n",
       "..         ...        ...\n",
       "295   9.024713   3.497681\n",
       "296 -14.919332 -10.691895\n",
       "297  -9.281068  -8.074654\n",
       "298 -18.684515   0.993434\n",
       "299   8.748763  -8.900241\n",
       "\n",
       "[300 rows x 2 columns]"
      ]
     },
     "execution_count": 368,
     "metadata": {},
     "output_type": "execute_result"
    }
   ],
   "source": [
    "## GAZE TO COORDINATES\n",
    "def gaze_to_coordinates(gaze_subj, distance):\n",
    "    angle_horiz = gaze_subj['angle_horiz']\n",
    "    angle_vert = gaze_subj['angle_vert']\n",
    "    x = distance * np.tan((np.radians(angle_horiz)))\n",
    "    y = distance * np.tan((np.radians(angle_vert)))\n",
    "    return x, y\n",
    "\n",
    "p1_coords = pd.DataFrame()\n",
    "p1_coords['x'], p1_coords['y'] = gaze_to_coordinates(gaze_p1, 60)\n",
    "p1_coords"
   ]
  },
  {
   "cell_type": "code",
   "execution_count": 369,
   "id": "03a01b08",
   "metadata": {},
   "outputs": [],
   "source": [
    "#MAP EOG READINGS TO GAZE ANGLES\n",
    "def map_fw_saccades_to_coords(fw_saccades, coords):\n",
    "    fw_mapping = {\n",
    "        i: {'segment': seg, \n",
    "            'x': coords.loc[i, 'x'], \n",
    "            'y': coords.loc[i, 'y']}\n",
    "        for i, seg in enumerate(fw_saccades)\n",
    "    }\n",
    "    return fw_mapping\n",
    "\n",
    "def map_bw_saccades_to_coords(bw_saccades):\n",
    "    bw_mapping = {\n",
    "        i: {'segment': seg, \n",
    "            'x': 0, \n",
    "            'y': 0}\n",
    "        for i, seg in enumerate(bw_saccades)\n",
    "    }\n",
    "    return bw_mapping\n"
   ]
  },
  {
   "cell_type": "markdown",
   "id": "2a9d9045",
   "metadata": {},
   "source": [
    "## BASELINE NORMALIZATION"
   ]
  },
  {
   "cell_type": "markdown",
   "id": "6d19c52b",
   "metadata": {},
   "source": [
    "Baseline normalization necessary so that all EOG readings start near zero. Accounting for baseline differences between forward saccades. Because we are only concerned with patterns and shapes of the EOG curves during different forward saccades we must make sure the values start at the same number. Example: perhaps a users EOG is raised over time at the center point due to fatigue or consecutive saccades, where it really should be the same every time (independent of the # trials)"
   ]
  },
  {
   "cell_type": "code",
   "execution_count": 370,
   "id": "ce6065f3",
   "metadata": {},
   "outputs": [],
   "source": [
    "import matplotlib.pyplot as plt\n",
    "\n",
    "# Pick a segment to visualize (e.g., the first one)\n",
    "#FORWARDS\n",
    "def plot_baseline_norm(mapping, saccade_num):\n",
    "    entry = list(mapping.values())[saccade_num]\n",
    "    horiz = entry['segment']['Horizontal'].values.astype('float32')\n",
    "    vert  = entry['segment']['Vertical'].values.astype('float32')\n",
    "\n",
    "    # Baseline subtraction using first 10 samples (pre-saccade fixation)\n",
    "    pre_samples = 10\n",
    "    horiz_baseline = horiz - horiz[:pre_samples].mean()\n",
    "    vert_baseline  = vert  - vert[:pre_samples].mean()\n",
    "\n",
    "    # Plot\n",
    "    plt.figure(figsize=(12,6))\n",
    "\n",
    "    plt.subplot(2,1,1)\n",
    "    plt.plot(horiz, label='Original Horizontal')\n",
    "    plt.plot(horiz_baseline, label='Baseline-corrected Horizontal')\n",
    "    plt.title('Horizontal EOG - Original vs Baseline Corrected, X: ' + str(entry['x']))\n",
    "    plt.xlabel('Sample')\n",
    "    plt.ylabel('EOG (µV)')\n",
    "    plt.legend()\n",
    "\n",
    "    plt.subplot(2,1,2)\n",
    "    plt.plot(vert, label='Original Vertical')\n",
    "    plt.plot(vert_baseline, label='Baseline-corrected Vertical')\n",
    "    plt.title('Vertical EOG - Original vs Baseline Corrected, Y: ' + str(entry['y']))\n",
    "    plt.xlabel('Sample')\n",
    "    plt.ylabel('EOG (µV)')\n",
    "    plt.legend()\n",
    "    plt.tight_layout()\n",
    "    plt.show()"
   ]
  },
  {
   "cell_type": "code",
   "execution_count": 371,
   "id": "6419732d",
   "metadata": {},
   "outputs": [],
   "source": [
    "# def baseline_norm(mapping):\n",
    "#         X_h_list = []\n",
    "#         X_v_list = []\n",
    "#         y_h_list = []\n",
    "#         y_v_list = []\n",
    "#         pre_samples = 10\n",
    "#         for entry in mapping.values():\n",
    "#                 horiz = entry['segment']['Horizontal'].values.astype('float32')\n",
    "#                 vert  = entry['segment']['Vertical'].values.astype('float32')\n",
    "                \n",
    "#                 # Baseline normalization using first `pre_samples`\n",
    "#                 baseline_h = horiz[:pre_samples].mean() if len(horiz) >= pre_samples else horiz.mean()\n",
    "#                 baseline_v = vert[:pre_samples].mean()  if len(vert)  >= pre_samples else vert.mean()\n",
    "#                 horiz -= baseline_h\n",
    "#                 vert  -= baseline_v\n",
    "                \n",
    "#                 X_h_list.append(horiz)\n",
    "#                 X_v_list.append(vert)\n",
    "                \n",
    "#                 # Target: one coordinate per segment\n",
    "#                 y_h_list.append(entry['x'])\n",
    "#                 y_v_list.append(entry['y'])\n",
    "#         return X_h_list, X_v_list, y_h_list, y_v_list\n",
    "\n",
    "# fw_X_h_list_p1, fw_X_v_list_p1, fw_y_h_list_p1, fw_y_v_list_p1 = baseline_norm(fw_mapping_p1)\n",
    "# bw_X_h_list_p1, bw_X_v_list_p1, bw_y_h_list_p1, bw_y_v_list_p1 = baseline_norm(bw_mapping_p1)\n",
    "\n",
    "\n",
    "# fw_X_h_list_p1 = pad_sequences(fw_X_h_list_p1, maxlen=256, dtype='float32', padding='post')\n",
    "# bw_X_h_list_p1 = pad_sequences(bw_X_h_list_p1, maxlen=256, dtype='float32', padding='post')\n",
    "# combined_X_h_saccades = []\n",
    "# len(fw_X_h_list_p1)\n",
    "# for index, value in enumerate(fw_X_h_list_p1):\n",
    "#         combined_X_h_saccades.append(fw_X_h_list_p1[index] + bw_X_h_list_p1[index])\n",
    "\n",
    "# plt.plot(combined_X_h_saccades[22])"
   ]
  },
  {
   "cell_type": "markdown",
   "id": "dd676b7c",
   "metadata": {},
   "source": [
    "## ANALYZE RELATIONSHIP BETWEEN DELTAEOG AND COORDS"
   ]
  },
  {
   "cell_type": "code",
   "execution_count": 372,
   "id": "8183875f",
   "metadata": {},
   "outputs": [],
   "source": [
    "def visualize_deltaEOG_Coords(fw_mapping):\n",
    "    deltaEOG_h = []\n",
    "    deltaEOG_v = []\n",
    "    deltaX = []\n",
    "    deltaY = []\n",
    "    for entry in fw_mapping.values():\n",
    "        horiz = entry['segment']['Horizontal'].values.astype('float32')\n",
    "        vert  = entry['segment']['Vertical'].values.astype('float32')\n",
    "        deltaEOG_h.append(horiz[-1] - horiz[0])\n",
    "        deltaEOG_v.append(vert[-1]  - vert[0])\n",
    "        deltaX.append(entry['x'] - 0)  # assuming starting angle is 0\n",
    "        deltaY.append(entry['y'] - 0)  # assuming starting angle is 0\n",
    "\n",
    "    plt.figure(figsize=(12,5))\n",
    "    plt.subplot(1,2,1)\n",
    "    plt.scatter(deltaX, deltaEOG_h)\n",
    "    plt.xlabel('change in X Coordinate')\n",
    "    plt.ylabel('Change in Horizontal EOG (µV)')\n",
    "    plt.title('delta Horizontal EOG vs deltaX Coordinate (relative to origin) For Each Saccade')\n",
    "\n",
    "    slope, intercept = np.polyfit(deltaX, deltaEOG_h, 1)\n",
    "    plt.plot(deltaX, slope * np.array(deltaX) + intercept, color='red', label='Line of Best Fit')   \n",
    "    plt.legend()\n",
    "\n",
    "\n",
    "    plt.figure(figsize=(12,5))\n",
    "    plt.subplot(1,2,1)\n",
    "    plt.scatter(deltaY, deltaEOG_v)\n",
    "    plt.xlabel('change in Y Coordinate')\n",
    "    plt.ylabel('Change in Vertical EOG (µV)')\n",
    "    plt.title('delta Vertical EOG vs deltaY Coordinate (relative to origin) For Each Saccade')\n",
    "\n",
    "    slope, intercept = np.polyfit(deltaY, deltaEOG_v, 1)\n",
    "    plt.plot(deltaY, slope * np.array(deltaY) + intercept, color='red', label='Line of Best Fit')   \n",
    "    plt.legend()"
   ]
  },
  {
   "cell_type": "code",
   "execution_count": 373,
   "id": "f4aeb6e0",
   "metadata": {},
   "outputs": [],
   "source": [
    "def preprocess_data(fw_mapping):\n",
    "#PARAMETERS\n",
    "    Fs = 256                 # sampling frequency\n",
    "    max_len = Fs             # maximum samples per segment (~1 second)\n",
    "    pre_samples = 10         # optional baseline window\n",
    "\n",
    "    # SEGMENTS AND TARGET COORDINATES\n",
    "    X_h_list = []\n",
    "    X_v_list = []\n",
    "    y_h_list = []\n",
    "    y_v_list = []\n",
    "\n",
    "    for entry in fw_mapping.values():\n",
    "        horiz = entry['segment']['Horizontal'].values.astype('float32')\n",
    "        vert  = entry['segment']['Vertical'].values.astype('float32')\n",
    "        \n",
    "        # Baseline normalization using first `pre_samples`\n",
    "        baseline_h = horiz[:pre_samples].mean() if len(horiz) >= pre_samples else horiz.mean()\n",
    "        baseline_v = vert[:pre_samples].mean()  if len(vert)  >= pre_samples else vert.mean()\n",
    "        horiz -= baseline_h\n",
    "        vert  -= baseline_v\n",
    "        \n",
    "        X_h_list.append(horiz)\n",
    "        X_v_list.append(vert)\n",
    "        \n",
    "        # Target: one coordinate per segment\n",
    "        y_h_list.append(entry['x'])\n",
    "        y_v_list.append(entry['y'])\n",
    "\n",
    "    # Pad sequences to max_len\n",
    "    X_h = pad_sequences(X_h_list, maxlen=max_len, dtype='float32', padding='post')\n",
    "    X_v = pad_sequences(X_v_list, maxlen=max_len, dtype='float32', padding='post')\n",
    "\n",
    "    # Reshape for LSTM input: (samples, timesteps, features)\n",
    "    X_h = X_h[..., np.newaxis]\n",
    "    X_v = X_v[..., np.newaxis]\n",
    "\n",
    "    y_h = np.array(y_h_list, dtype='float32')\n",
    "    y_v = np.array(y_v_list, dtype='float32')\n",
    "    #TRAIN TEST SPLIT\n",
    "    num_segments = X_h.shape[0]\n",
    "    indices = np.arange(num_segments)\n",
    "\n",
    "    # 70% train, 15% val, 15% test\n",
    "    train_idx, test_idx = train_test_split(indices, test_size=0.2, random_state=42, shuffle=True)\n",
    "\n",
    "    # Horizontal data splits\n",
    "    X_train_h, y_train_h = X_h[train_idx], y_h[train_idx]\n",
    "    X_test_h,  y_test_h  = X_h[test_idx],  y_h[test_idx]\n",
    "\n",
    "    # Vertical data splits\n",
    "    X_train_v, y_train_v = X_v[train_idx], y_v[train_idx]\n",
    "    X_test_v,  y_test_v  = X_v[test_idx],  y_v[test_idx]\n",
    "\n",
    "    return X_train_h, y_train_h, X_test_h, y_test_h, X_train_v, y_train_v, X_test_v, y_test_v\n",
    "\n",
    "X_train_h_p1, y_train_h_p1, X_test_h_p1, y_test_h_p1, X_train_v_p1, y_train_v_p1, X_test_v_p1, y_test_v_p1 = preprocess_data(fw_mapping_p1)"
   ]
  },
  {
   "cell_type": "markdown",
   "id": "9ee2cbca",
   "metadata": {},
   "source": [
    "## LINEAR REGRESSION"
   ]
  },
  {
   "cell_type": "code",
   "execution_count": 403,
   "id": "8fd2e63a",
   "metadata": {},
   "outputs": [
    {
     "name": "stdout",
     "output_type": "stream",
     "text": [
      "-----------------------------------------------------\n",
      "Horizontal Linear Regression:\n",
      "R²: 0.9928358197212219\n",
      "RMSE: 1.2015091180801392\n",
      "-----------------------------------------------------\n",
      "-----------------------------------------------------\n",
      "\n",
      "Vertical Linear Regression:\n",
      "R²: 0.9792423248291016\n",
      "RMSE: 1.1667510271072388\n",
      "-----------------------------------------------------\n"
     ]
    }
   ],
   "source": [
    "def linear_regression_horizontal(X_train_h, y_train_h, X_test_h, y_test_h):\n",
    "    linear_model_h = LinearRegression()\n",
    "    linear_model_h.fit(X_train_h.reshape(X_train_h.shape[0], -1), y_train_h)\n",
    "    linear_x_pred = linear_model_h.predict(X_test_h.reshape(X_test_h.shape[0], -1))\n",
    "    print('-----------------------------------------------------')\n",
    "    print(\"Horizontal Linear Regression:\")\n",
    "    print(\"R²:\", r2_score(y_test_h, linear_x_pred))\n",
    "    print(\"RMSE:\", root_mean_squared_error(y_test_h, linear_x_pred))\n",
    "    print('-----------------------------------------------------')\n",
    "\n",
    "\n",
    "def linear_regression_vertical(X_train_v, y_train_v, X_test_v, y_test_v):\n",
    "    linear_model_v = LinearRegression()\n",
    "    linear_model_v.fit(X_train_v.reshape(X_train_v.shape[0], -1), y_train_v)\n",
    "    linear_y_pred = linear_model_v.predict(X_test_v.reshape(X_test_v.shape[0], -1))\n",
    "    print('-----------------------------------------------------')\n",
    "    print(\"\\nVertical Linear Regression:\")\n",
    "    print(\"R²:\", r2_score(y_test_v, linear_y_pred))\n",
    "    # residuals = y_test_v - linear_y_pred\n",
    "    # largest_residual = max(abs(residuals))\n",
    "    # print(\"Largest Residual:\", largest_residual)\n",
    "    print(\"RMSE:\", root_mean_squared_error(y_test_v, linear_y_pred))\n",
    "    print('-----------------------------------------------------')\n",
    "\n",
    "\n",
    "\n",
    "def huber_regression_vertical(X_train_v, y_train_v, X_test_v, y_test_v):\n",
    "    huber_model_v = HuberRegressor(epsilon=1, alpha = 0)\n",
    "    huber_model_v.fit(X_train_v.reshape(X_train_v.shape[0], -1), y_train_v)\n",
    "    huber_y_pred = huber_model_v.predict(X_test_v.reshape(X_test_v.shape[0], -1))\n",
    "    print('-----------------------------------------------------')\n",
    "    print(\"\\nVertical Huber Regression:\")\n",
    "    print(\"R²:\", r2_score(y_test_v, huber_y_pred))\n",
    "    print(\"RMSE:\", root_mean_squared_error(y_test_v, huber_y_pred))\n",
    "    print('-----------------------------------------------------')\n",
    "\n",
    "linear_regression_horizontal(X_train_h_p1, y_train_h_p1, X_test_h_p1, y_test_h_p1)\n",
    "linear_regression_vertical(X_train_v_p1, y_train_v_p1, X_test_v_p1, y_test_v_p1)\n",
    "\n"
   ]
  },
  {
   "cell_type": "markdown",
   "id": "2e827be9",
   "metadata": {},
   "source": [
    "# BLINK VS SACCADE CLASSIFICATION"
   ]
  },
  {
   "cell_type": "code",
   "execution_count": 375,
   "id": "2e869416",
   "metadata": {},
   "outputs": [],
   "source": [
    "def get_blinks(segments):\n",
    "    blinks = [seg for seg in segments if seg['saccade_type'].iloc[0] == 3]\n",
    "    return blinks\n",
    "\n",
    "def norm_blinks(blinks):\n",
    "    blinks_norm = []\n",
    "    for entry in blinks:\n",
    "        blink_vert_norm = entry['Vertical'].values\n",
    "        baseline_v_blinks = blink_vert_norm[0]\n",
    "        blink_vert_norm -= baseline_v_blinks\n",
    "        blinks_norm.append(blink_vert_norm)\n",
    "    return blinks_norm\n",
    "\n",
    "def plot_blink(blinks_norm, blinks_notnorm, num_blink):\n",
    "    blink_entry = blinks_notnorm[num_blink]\n",
    "    blink_vert  = blink_entry['Vertical'].values.astype('float32')\n",
    "\n",
    "    plt.figure(figsize=(12,5))\n",
    "    plt.plot(blink_vert, label='Original Vertical')\n",
    "    plt.plot(blinks_norm[num_blink], label='Baseline-corrected Vertical')\n",
    "    plt.title(f'Blink Segment {num_blink} - Original vs Baseline Corrected')\n",
    "    plt.xlabel('Sample')\n",
    "    plt.ylabel('EOG (µV)')\n",
    "    plt.legend()\n",
    "    plt.show()"
   ]
  },
  {
   "cell_type": "code",
   "execution_count": 376,
   "id": "ff484752",
   "metadata": {},
   "outputs": [],
   "source": [
    "def norm_saccades_vert(fw_saccades):\n",
    "    saccades_norm = []\n",
    "    pre_samples = 10\n",
    "    for entry in fw_saccades:\n",
    "        vert = entry['Vertical'].values.astype('float32')\n",
    "        # Baseline normalization using first `pre_samples`\n",
    "        baseline_v = vert[:pre_samples].mean()  if len(vert)  >= pre_samples else vert.mean()\n",
    "        vert  -= baseline_v\n",
    "        saccades_norm.append(vert)\n",
    "    return saccades_norm"
   ]
  },
  {
   "cell_type": "markdown",
   "id": "622e8ab9",
   "metadata": {},
   "source": [
    "## CLASSIFY BLINKS BASED ON PEAK VALUES"
   ]
  },
  {
   "cell_type": "code",
   "execution_count": 377,
   "id": "36014e74",
   "metadata": {},
   "outputs": [
    {
     "data": {
      "image/png": "[encoded data removed]",
      "text/plain": [
       "<Figure size 1200x500 with 1 Axes>"
      ]
     },
     "metadata": {},
     "output_type": "display_data"
    }
   ],
   "source": [
    "plot_blink(blinks_norm_p1, blinks_p1, 25)"
   ]
  },
  {
   "cell_type": "code",
   "execution_count": 378,
   "id": "3bf763be",
   "metadata": {},
   "outputs": [],
   "source": [
    "# positive_slopes = []\n",
    "# negative_slopes = []\n",
    "# for saccade in saccades_norm_p1:\n",
    "#     grad_saccade = np.gradient(saccade)\n",
    "#     grad_smooth_saccade = np.convolve(grad_saccade, np.ones(5)/5, mode='same')\n",
    "#     max_sacc_slope = max(grad_smooth_saccade)\n",
    "#     min_sacc_slope = min(grad_smooth_saccade)\n",
    "\n",
    "#     if max_sacc_slope > abs(min_sacc_slope):\n",
    "#         positive_slopes.append(max_sacc_slope)\n",
    "#     else: \n",
    "#         negative_slopes.append(min_sacc_slope)\n",
    "# positive_slopes = [num for num in positive_slopes if num > 0]\n",
    "# min(positive_slopes), max(positive_slopes)\n",
    "# max(negative_slopes), min(negative_slopes)\n",
    "\n"
   ]
  },
  {
   "cell_type": "code",
   "execution_count": null,
   "id": "b72bc173",
   "metadata": {},
   "outputs": [],
   "source": []
  },
  {
   "cell_type": "code",
   "execution_count": 379,
   "id": "85681bf1",
   "metadata": {},
   "outputs": [],
   "source": [
    "#Function for getting the lowest possible blink peak given a few blinks in calibration\n",
    "def blinkCalibration(blinks_norm):\n",
    "\n",
    "    #Peak Thresholding\n",
    "    peak_blinks_list = []\n",
    "    for blink in blinks_norm:\n",
    "        peak_blink = max(blink)\n",
    "        min_blink = abs(min(blink))\n",
    "        if peak_blink > min_blink:\n",
    "            peak_blinks_list.append(peak_blink)\n",
    "\n",
    "    peak_blinks_std = np.std(peak_blinks_list)\n",
    "    peak_lowest = min(peak_blinks_list) - peak_blinks_std\n",
    "\n",
    "    #Slope Thresholding\n",
    "    rise_slopes = []\n",
    "    fall_slopes = []\n",
    "    for blink in blinks_norm: \n",
    "        grad = np.gradient(blink)\n",
    "        grad_smooth = np.convolve(grad, np.ones(5)/5, mode='same')\n",
    "        rise_slopes.append(max(grad_smooth))\n",
    "        fall_slopes.append(min(grad_smooth))\n",
    "\n",
    "    rise_slope_std = np.std(rise_slopes)\n",
    "    fall_slope_std = np.std(fall_slopes)\n",
    "    print(min(rise_slopes), max(rise_slopes))\n",
    "    print(max(fall_slopes), min(fall_slopes))\n",
    "\n",
    "    print('standard deviations for rise and fall slopes: ', rise_slope_std, fall_slope_std, 'mean', np.mean(rise_slopes), np.mean(fall_slopes), 'variance: ', np.var(rise_slopes), np.var(fall_slopes))\n",
    "    min_rise_slope = min(rise_slopes) - rise_slope_std\n",
    "    max_fall_slope = max(fall_slopes) + fall_slope_std\n",
    "\n",
    "    return peak_lowest, min_rise_slope, max_fall_slope\n",
    "\n",
    "\n",
    "#Function for classifying future blinks\n",
    "def classifyblinkorsaccade(eye_movement, peak_lowest, min_rise_slope, max_fall_slope):\n",
    "    # We need to tell if we have a whole blink signal within the window or only half one to\n",
    "    # determine which classification method to use...\n",
    "    # If your max value is in the at the first or last index, you do not have a complete peak, and your peak is cut in half or incomplete in the window either at the start or end.\n",
    "    # If your max value is at the first index, your slope is negative , if your max value is at the last index, the slope is positive\n",
    "    if np.argmax(eye_movement) == 0:\n",
    "        if max(np.gradient(eye_movement)) > min_rise_slope:\n",
    "            classification = 'blink'\n",
    "        else:\n",
    "            classification = 'saccade'\n",
    "\n",
    "    elif np.argmax(eye_movement) == (len(eye_movement) - 1): \n",
    "        if min(np.gradient(eye_movement)) < max_fall_slope:\n",
    "            classification = 'blink'\n",
    "        else: \n",
    "            classification = 'saccade'\n",
    "    else: \n",
    "        if eye_movement.max() > peak_lowest:\n",
    "            classification = 'blink'\n",
    "        elif eye_movement.max() < peak_lowest:\n",
    "            classification = 'saccade'\n",
    "    \n",
    "    return classification\n",
    "\n",
    "#Test the accuracy of the classification\n",
    "def test_accuracy(blinks_norm, peak_lowest, min_rise_slope, max_fall_slope):\n",
    "    blink_acc_list = [] \n",
    "    for blink in blinks_norm: \n",
    "        if classifyblinkorsaccade(blink, peak_lowest, min_rise_slope, max_fall_slope) == 'blink':\n",
    "            blink_acc_list.append(1)\n",
    "        else: \n",
    "            blink_acc_list.append(0)\n",
    "    return np.mean(blink_acc_list)"
   ]
  },
  {
   "cell_type": "code",
   "execution_count": 407,
   "id": "eaba9d7a",
   "metadata": {},
   "outputs": [
    {
     "name": "stdout",
     "output_type": "stream",
     "text": [
      "-----------------------------------------------------\n",
      "Horizontal Linear Regression:\n",
      "R²: 0.9828590154647827\n",
      "RMSE: 1.9856221675872803\n",
      "-----------------------------------------------------\n",
      "-----------------------------------------------------\n",
      "\n",
      "Vertical Linear Regression:\n",
      "R²: 0.8563793301582336\n",
      "RMSE: 3.1783297061920166\n",
      "-----------------------------------------------------\n",
      "-----------------------------------------------------\n",
      "\n",
      "Vertical Huber Regression:\n",
      "R²: 0.8062322382898723\n",
      "RMSE: 3.6917410461414297\n",
      "-----------------------------------------------------\n",
      "23.573657226562503 36.251562500000006\n",
      "-11.183520507812501 -16.358984375000002\n",
      "standard deviations for rise and fall slopes:  2.5916736595028746 1.4947126299623599 mean 31.130880126953127 -13.692724609375 variance:  6.716772357361023 2.2341658461689944\n",
      "0.9714285714285714\n"
     ]
    },
    {
     "name": "stderr",
     "output_type": "stream",
     "text": [
      "/Users/joshuasu/Library/Python/3.9/lib/python/site-packages/sklearn/linear_model/_huber.py:343: ConvergenceWarning: lbfgs failed to converge (status=1):\n",
      "STOP: TOTAL NO. of ITERATIONS REACHED LIMIT.\n",
      "\n",
      "Increase the number of iterations (max_iter) or scale the data as shown in:\n",
      "    https://scikit-learn.org/stable/modules/preprocessing.html\n",
      "  self.n_iter_ = _check_optimize_result(\"lbfgs\", opt_res, self.max_iter)\n"
     ]
    },
    {
     "data": {
      "image/png": "[encoded data removed]",
      "text/plain": [
       "<Figure size 1200x500 with 1 Axes>"
      ]
     },
     "metadata": {},
     "output_type": "display_data"
    },
    {
     "data": {
      "image/png": "[encoded data removed]",
      "text/plain": [
       "<Figure size 1200x500 with 1 Axes>"
      ]
     },
     "metadata": {},
     "output_type": "display_data"
    }
   ],
   "source": [
    "#Now let's test this code on a new subject: \n",
    "def run_on_new_subject(subject_num: int):\n",
    "    data = load_data(f'./Malta_Data_P{subject_num}/p{subject_num}_EOG_transposed.csv', f'./Malta_Data_P{subject_num}/p{subject_num}_ControlSignal_transposed.csv')\n",
    "    segments = segment_data(data)\n",
    "    fw_saccades = get_fw_saccades(segments)\n",
    "    gaze = load_gaze(f'./Malta_Data_P{subject_num}/p{subject_num}_TargetGA.csv')\n",
    "    coords = pd.DataFrame()\n",
    "    coords['x'], coords['y'] = gaze_to_coordinates(gaze, 60)\n",
    "    fw_mapping = map_fw_saccades_to_coords(fw_saccades, coords)\n",
    "    visualize_deltaEOG_Coords(fw_mapping)\n",
    "    X_train_h, y_train_h, X_test_h, y_test_h, X_train_v, y_train_v, X_test_v, y_test_v = preprocess_data(fw_mapping)\n",
    "    linear_regression_horizontal(X_train_h, y_train_h, X_test_h, y_test_h)\n",
    "    linear_regression_vertical(X_train_v, y_train_v, X_test_v, y_test_v)\n",
    "    huber_regression_vertical(X_train_v, y_train_v, X_test_v, y_test_v)\n",
    "\n",
    "    blinks = get_blinks(segments)\n",
    "    blinks_norm = norm_blinks(blinks)\n",
    "    # plot_blink(blinks_norm, blinks, 5)\n",
    "    peak_lowest, min_rise_slope, max_fall_slope = blinkCalibration(blinks_norm[0:20])\n",
    "    print(test_accuracy(blinks_norm[20:], peak_lowest, min_rise_slope, max_fall_slope))\n",
    "\n",
    "#Edit this argument to switch between subject 1, 2, 3, etc. \n",
    "run_on_new_subject(4)"
   ]
  },
  {
   "cell_type": "code",
   "execution_count": null,
   "id": "6001473b",
   "metadata": {},
   "outputs": [],
   "source": []
  }
 ],
 "metadata": {
  "kernelspec": {
   "display_name": "Python 3",
   "language": "python",
   "name": "python3"
  },
  "language_info": {
   "codemirror_mode": {
    "name": "ipython",
    "version": 3
   },
   "file_extension": ".py",
   "mimetype": "text/x-python",
   "name": "python",
   "nbconvert_exporter": "python",
   "pygments_lexer": "ipython3",
   "version": "3.9.6"
  }
 },
 "nbformat": 4,
 "nbformat_minor": 5
}
